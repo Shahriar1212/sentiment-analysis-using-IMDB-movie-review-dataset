{
  "nbformat": 4,
  "nbformat_minor": 0,
  "metadata": {
    "colab": {
      "name": "preprocessing.ipynb",
      "provenance": [],
      "collapsed_sections": []
    },
    "kernelspec": {
      "name": "python3",
      "display_name": "Python 3"
    },
    "language_info": {
      "name": "python"
    },
    "accelerator": "GPU"
  },
  "cells": [
    {
      "cell_type": "code",
      "metadata": {
        "id": "rR21Z9SBxH79"
      },
      "source": [
        "import pandas as pd\n",
        "import numpy as np\n",
        "import math\n",
        "import re\n",
        "import random\n",
        "import nltk\n",
        "from nltk.stem import WordNetLemmatizer\n",
        "from nltk.tokenize import WhitespaceTokenizer\n",
        "\n",
        "from keras.preprocessing.text import Tokenizer\n",
        "from keras.preprocessing.sequence import pad_sequences\n",
        "from keras.utils.np_utils import to_categorical\n",
        "from keras.utils.vis_utils import plot_model\n",
        "\n",
        "from sklearn.model_selection import train_test_split\n",
        "\n",
        "import matplotlib as mpl\n",
        "import matplotlib.pyplot as plt\n",
        "import seaborn as sb\n"
      ],
      "execution_count": null,
      "outputs": []
    },
    {
      "cell_type": "code",
      "metadata": {
        "id": "fOahvwyoA9No",
        "colab": {
          "base_uri": "https://localhost:8080/"
        },
        "outputId": "cc30014a-1fd5-4b0d-8478-41c82b71545b"
      },
      "source": [
        "from google.colab import drive\n",
        "drive.mount('/content/drive')"
      ],
      "execution_count": null,
      "outputs": [
        {
          "output_type": "stream",
          "name": "stdout",
          "text": [
            "Mounted at /content/drive\n"
          ]
        }
      ]
    },
    {
      "cell_type": "code",
      "metadata": {
        "colab": {
          "base_uri": "https://localhost:8080/"
        },
        "id": "ZkMkAVLScT7k",
        "outputId": "a906cc8b-b022-483b-e2b3-4b9b68d17a7f"
      },
      "source": [
        "!unzip '/content/drive/MyDrive/Soft Computing/Project/imdb.zip'"
      ],
      "execution_count": null,
      "outputs": [
        {
          "output_type": "stream",
          "name": "stdout",
          "text": [
            "Archive:  /content/drive/MyDrive/Soft Computing/Project/imdb.zip\n",
            "  inflating: IMDB Dataset.csv        \n"
          ]
        }
      ]
    },
    {
      "cell_type": "code",
      "metadata": {
        "id": "-cp4QOYmxUjc"
      },
      "source": [
        "df = pd.read_csv('/content/IMDB Dataset.csv')\n",
        "df = df.sample(frac=1)"
      ],
      "execution_count": null,
      "outputs": []
    },
    {
      "cell_type": "markdown",
      "metadata": {
        "id": "m5HR3lA4cXxH"
      },
      "source": [
        "# Target Culumn"
      ]
    },
    {
      "cell_type": "code",
      "metadata": {
        "id": "4SJaBWLyWP4q"
      },
      "source": [
        "df['target'] = 0\n",
        "\n",
        "a = 0\n",
        "for i, row in df.iterrows():\n",
        "    if ((row['sentiment'] == 'positive')):\n",
        "        a = 1\n",
        "    else:\n",
        "        a = 0\n",
        "    df.at[i,'target'] = a"
      ],
      "execution_count": null,
      "outputs": []
    },
    {
      "cell_type": "code",
      "metadata": {
        "colab": {
          "base_uri": "https://localhost:8080/",
          "height": 363
        },
        "id": "CB2o7LhIWT5M",
        "outputId": "dc6f49e6-d5a2-485d-f929-6c2d294406d9"
      },
      "source": [
        "df[['review','sentiment', 'target']].iloc[range(10)]"
      ],
      "execution_count": null,
      "outputs": [
        {
          "output_type": "execute_result",
          "data": {
            "text/html": [
              "<div>\n",
              "<style scoped>\n",
              "    .dataframe tbody tr th:only-of-type {\n",
              "        vertical-align: middle;\n",
              "    }\n",
              "\n",
              "    .dataframe tbody tr th {\n",
              "        vertical-align: top;\n",
              "    }\n",
              "\n",
              "    .dataframe thead th {\n",
              "        text-align: right;\n",
              "    }\n",
              "</style>\n",
              "<table border=\"1\" class=\"dataframe\">\n",
              "  <thead>\n",
              "    <tr style=\"text-align: right;\">\n",
              "      <th></th>\n",
              "      <th>review</th>\n",
              "      <th>sentiment</th>\n",
              "      <th>target</th>\n",
              "    </tr>\n",
              "  </thead>\n",
              "  <tbody>\n",
              "    <tr>\n",
              "      <th>24418</th>\n",
              "      <td>Ripping this movie apart is like shooting fish...</td>\n",
              "      <td>negative</td>\n",
              "      <td>0</td>\n",
              "    </tr>\n",
              "    <tr>\n",
              "      <th>38386</th>\n",
              "      <td>Unfortunately this is not one of those movies ...</td>\n",
              "      <td>negative</td>\n",
              "      <td>0</td>\n",
              "    </tr>\n",
              "    <tr>\n",
              "      <th>3089</th>\n",
              "      <td>This film shows up on the premium cable channe...</td>\n",
              "      <td>positive</td>\n",
              "      <td>1</td>\n",
              "    </tr>\n",
              "    <tr>\n",
              "      <th>15998</th>\n",
              "      <td>Seriously - avoid this movie at any cost. I ju...</td>\n",
              "      <td>negative</td>\n",
              "      <td>0</td>\n",
              "    </tr>\n",
              "    <tr>\n",
              "      <th>22444</th>\n",
              "      <td>This is simply the funniest movie I've seen in...</td>\n",
              "      <td>positive</td>\n",
              "      <td>1</td>\n",
              "    </tr>\n",
              "    <tr>\n",
              "      <th>42396</th>\n",
              "      <td>About as hilarious as 50s British comedy can g...</td>\n",
              "      <td>positive</td>\n",
              "      <td>1</td>\n",
              "    </tr>\n",
              "    <tr>\n",
              "      <th>47319</th>\n",
              "      <td>A large bed possessed by a demon eats people, ...</td>\n",
              "      <td>positive</td>\n",
              "      <td>1</td>\n",
              "    </tr>\n",
              "    <tr>\n",
              "      <th>13459</th>\n",
              "      <td>This film is a jolt of punk rock fun, from sta...</td>\n",
              "      <td>positive</td>\n",
              "      <td>1</td>\n",
              "    </tr>\n",
              "    <tr>\n",
              "      <th>35337</th>\n",
              "      <td>Having seen \"Triumph of the Will,\" I can only ...</td>\n",
              "      <td>negative</td>\n",
              "      <td>0</td>\n",
              "    </tr>\n",
              "    <tr>\n",
              "      <th>21876</th>\n",
              "      <td>I never intended to see Venom, but I caught it...</td>\n",
              "      <td>negative</td>\n",
              "      <td>0</td>\n",
              "    </tr>\n",
              "  </tbody>\n",
              "</table>\n",
              "</div>"
            ],
            "text/plain": [
              "                                                  review sentiment  target\n",
              "24418  Ripping this movie apart is like shooting fish...  negative       0\n",
              "38386  Unfortunately this is not one of those movies ...  negative       0\n",
              "3089   This film shows up on the premium cable channe...  positive       1\n",
              "15998  Seriously - avoid this movie at any cost. I ju...  negative       0\n",
              "22444  This is simply the funniest movie I've seen in...  positive       1\n",
              "42396  About as hilarious as 50s British comedy can g...  positive       1\n",
              "47319  A large bed possessed by a demon eats people, ...  positive       1\n",
              "13459  This film is a jolt of punk rock fun, from sta...  positive       1\n",
              "35337  Having seen \"Triumph of the Will,\" I can only ...  negative       0\n",
              "21876  I never intended to see Venom, but I caught it...  negative       0"
            ]
          },
          "metadata": {},
          "execution_count": 6
        }
      ]
    },
    {
      "cell_type": "markdown",
      "metadata": {
        "id": "rPmEfCxZFEFa"
      },
      "source": [
        "# Preprocessing"
      ]
    },
    {
      "cell_type": "code",
      "metadata": {
        "id": "dRecrJC4xi_4"
      },
      "source": [
        "# removing mentions, links, tags\n",
        "\n",
        "import re\n",
        "\n",
        "def removing_mentions(text):\n",
        "    text = re.sub(r'@[A-Za-z0-9]+', '', text)     # removing @mentions\n",
        "    text = re.sub(r'@[A-Za-zA-Z0-9]+', '', text)  # removing @mentions \n",
        "    text = re.sub(r'@[A-Za-z]+', '', text)        # removing @mentions\n",
        "    text = re.sub(r'@[-)]+', '', text)            # removing @mentions\n",
        "\n",
        "    return text\n",
        "\n",
        "def removeing_links(text):\n",
        "    text = re.sub(r'https?\\/\\/\\S+', '', text)     # removing the hyper link\n",
        "    text = re.sub(r'http?\\/\\/\\S+', '', text)     # removing the hyper link\n",
        "    \n",
        "    return text\n",
        "\n",
        "def removing_tags(text):\n",
        "    text = re.sub(r'#', '', text )              # removing '#' sign\n",
        "    text = re.sub(r'RT[\\s]+', '', text)         # removing RT\n",
        "    text = re.sub(r'&[a-z;]+', '', text)        # removing '&gt;'\n",
        "    \n",
        "    return text"
      ],
      "execution_count": null,
      "outputs": []
    },
    {
      "cell_type": "code",
      "metadata": {
        "id": "OtB_KJqzWjEH"
      },
      "source": [
        "df['review'] = df['review'].apply(removeing_links)\n",
        "df['review'] = df['review'].apply(removing_mentions)\n",
        "df['review'] = df['review'].apply(removing_tags)"
      ],
      "execution_count": null,
      "outputs": []
    },
    {
      "cell_type": "code",
      "metadata": {
        "id": "pB6Ob28ObtbH"
      },
      "source": [
        "df.to_csv('/content/drive/MyDrive/Soft Computing/Project/dataset_v1.csv')"
      ],
      "execution_count": null,
      "outputs": []
    },
    {
      "cell_type": "markdown",
      "metadata": {
        "id": "ak-yPvHkOuGt"
      },
      "source": [
        "# Stopwords removal"
      ]
    },
    {
      "cell_type": "code",
      "metadata": {
        "id": "Eyo6MGRUVinA",
        "colab": {
          "base_uri": "https://localhost:8080/"
        },
        "outputId": "7c61fa90-a357-4905-a57f-0440b4284601"
      },
      "source": [
        "nltk.download('stopwords')\n",
        "stopwords = nltk.corpus.stopwords.words('english')\n",
        "\n",
        "def remove_stop_words(tweet):\n",
        "    words = tweet.lower().split()\n",
        "    clean_words = []\n",
        "    for word in words:\n",
        "        if word not in stopwords:\n",
        "            clean_words.append(word)\n",
        "            \n",
        "    clean_tweet = ' '.join(clean_words)\n",
        "    return clean_tweet"
      ],
      "execution_count": null,
      "outputs": [
        {
          "output_type": "stream",
          "name": "stdout",
          "text": [
            "[nltk_data] Downloading package stopwords to /root/nltk_data...\n",
            "[nltk_data]   Package stopwords is already up-to-date!\n"
          ]
        }
      ]
    },
    {
      "cell_type": "code",
      "metadata": {
        "id": "Ld6_0TCyRkF0"
      },
      "source": [
        "df['review'] = df['review'].apply(lambda review : remove_stop_words(str(review)))"
      ],
      "execution_count": null,
      "outputs": []
    },
    {
      "cell_type": "code",
      "metadata": {
        "colab": {
          "base_uri": "https://localhost:8080/"
        },
        "id": "w9XuCziCfNTt",
        "outputId": "7e8ed80e-b0d8-4c39-c3f0-56e0f8efb615"
      },
      "source": [
        "!pip install xlsxwriter"
      ],
      "execution_count": null,
      "outputs": [
        {
          "output_type": "stream",
          "name": "stdout",
          "text": [
            "Collecting xlsxwriter\n",
            "  Downloading XlsxWriter-3.0.1-py3-none-any.whl (148 kB)\n",
            "\u001b[K     |████████████████████████████████| 148 kB 2.3 MB/s \n",
            "\u001b[?25hInstalling collected packages: xlsxwriter\n",
            "Successfully installed xlsxwriter-3.0.1\n"
          ]
        }
      ]
    },
    {
      "cell_type": "code",
      "metadata": {
        "id": "UrLogvfrXMvh"
      },
      "source": [
        "# df.to_csv('without_stopwords.csv')\n",
        "df.to_csv('/content/drive/MyDrive/Soft Computing/Project/without_stopwords.csv')\n"
      ],
      "execution_count": null,
      "outputs": []
    },
    {
      "cell_type": "markdown",
      "metadata": {
        "id": "pQdvdfcTXgub"
      },
      "source": [
        "# Lemmatization"
      ]
    },
    {
      "cell_type": "code",
      "metadata": {
        "colab": {
          "base_uri": "https://localhost:8080/"
        },
        "id": "9w2ybucqSxSS",
        "outputId": "672bd109-6edd-4c3b-927e-55f229c69540"
      },
      "source": [
        "nltk.download('wordnet')\n",
        "def lemmatization(tweet):\n",
        "    lemmatizer = WordNetLemmatizer()\n",
        "    \n",
        "    tokenizer = WhitespaceTokenizer()\n",
        "    tokens = tokenizer.tokenize(tweet)\n",
        "\n",
        "    tweet_tokens = []\n",
        "    for word in tokens:\n",
        "        word_lemmatized = lemmatizer.lemmatize(word)\n",
        "        tweet_tokens.append(word_lemmatized)\n",
        "\n",
        "    clean_tweet = ' '.join(tweet_tokens)\n",
        "    return clean_tweet"
      ],
      "execution_count": null,
      "outputs": [
        {
          "output_type": "stream",
          "name": "stdout",
          "text": [
            "[nltk_data] Downloading package wordnet to /root/nltk_data...\n",
            "[nltk_data]   Package wordnet is already up-to-date!\n"
          ]
        }
      ]
    },
    {
      "cell_type": "code",
      "metadata": {
        "id": "ynZ5tLhwTClC"
      },
      "source": [
        "df['review'] = df['review'].apply(lambda review : lemmatization(str(review)))"
      ],
      "execution_count": null,
      "outputs": []
    },
    {
      "cell_type": "code",
      "metadata": {
        "colab": {
          "base_uri": "https://localhost:8080/",
          "height": 363
        },
        "id": "b9SVCjM9UY0Q",
        "outputId": "9cc1d043-eaa9-4075-a2a6-777157918ce7"
      },
      "source": [
        "df[['review','sentiment', 'target']].iloc[range(10)]"
      ],
      "execution_count": null,
      "outputs": [
        {
          "output_type": "execute_result",
          "data": {
            "text/html": [
              "<div>\n",
              "<style scoped>\n",
              "    .dataframe tbody tr th:only-of-type {\n",
              "        vertical-align: middle;\n",
              "    }\n",
              "\n",
              "    .dataframe tbody tr th {\n",
              "        vertical-align: top;\n",
              "    }\n",
              "\n",
              "    .dataframe thead th {\n",
              "        text-align: right;\n",
              "    }\n",
              "</style>\n",
              "<table border=\"1\" class=\"dataframe\">\n",
              "  <thead>\n",
              "    <tr style=\"text-align: right;\">\n",
              "      <th></th>\n",
              "      <th>review</th>\n",
              "      <th>sentiment</th>\n",
              "      <th>target</th>\n",
              "    </tr>\n",
              "  </thead>\n",
              "  <tbody>\n",
              "    <tr>\n",
              "      <th>4320</th>\n",
              "      <td>film one boring film ever made. thing liked us...</td>\n",
              "      <td>negative</td>\n",
              "      <td>0</td>\n",
              "    </tr>\n",
              "    <tr>\n",
              "      <th>19407</th>\n",
              "      <td>got action fantasy mixed together want action ...</td>\n",
              "      <td>positive</td>\n",
              "      <td>1</td>\n",
              "    </tr>\n",
              "    <tr>\n",
              "      <th>14362</th>\n",
              "      <td>1955 heist film follows tony le stephanois, re...</td>\n",
              "      <td>positive</td>\n",
              "      <td>1</td>\n",
              "    </tr>\n",
              "    <tr>\n",
              "      <th>5596</th>\n",
              "      <td>one film couple hour sunday morning -- able th...</td>\n",
              "      <td>negative</td>\n",
              "      <td>0</td>\n",
              "    </tr>\n",
              "    <tr>\n",
              "      <th>14179</th>\n",
              "      <td>im big tim matheson fan admit liked film.it da...</td>\n",
              "      <td>positive</td>\n",
              "      <td>1</td>\n",
              "    </tr>\n",
              "    <tr>\n",
              "      <th>14099</th>\n",
              "      <td>television show watched 1960s child captivated...</td>\n",
              "      <td>positive</td>\n",
              "      <td>1</td>\n",
              "    </tr>\n",
              "    <tr>\n",
              "      <th>18892</th>\n",
              "      <td>cult personality elevated status roger corman,...</td>\n",
              "      <td>negative</td>\n",
              "      <td>0</td>\n",
              "    </tr>\n",
              "    <tr>\n",
              "      <th>40170</th>\n",
              "      <td>beautiful piece children's cinema buried world...</td>\n",
              "      <td>positive</td>\n",
              "      <td>1</td>\n",
              "    </tr>\n",
              "    <tr>\n",
              "      <th>9461</th>\n",
              "      <td>can't say whether post-wwii british comedy pro...</td>\n",
              "      <td>positive</td>\n",
              "      <td>1</td>\n",
              "    </tr>\n",
              "    <tr>\n",
              "      <th>32608</th>\n",
              "      <td>movie right bad. love war movie normally come ...</td>\n",
              "      <td>negative</td>\n",
              "      <td>0</td>\n",
              "    </tr>\n",
              "  </tbody>\n",
              "</table>\n",
              "</div>"
            ],
            "text/plain": [
              "                                                  review sentiment  target\n",
              "4320   film one boring film ever made. thing liked us...  negative       0\n",
              "19407  got action fantasy mixed together want action ...  positive       1\n",
              "14362  1955 heist film follows tony le stephanois, re...  positive       1\n",
              "5596   one film couple hour sunday morning -- able th...  negative       0\n",
              "14179  im big tim matheson fan admit liked film.it da...  positive       1\n",
              "14099  television show watched 1960s child captivated...  positive       1\n",
              "18892  cult personality elevated status roger corman,...  negative       0\n",
              "40170  beautiful piece children's cinema buried world...  positive       1\n",
              "9461   can't say whether post-wwii british comedy pro...  positive       1\n",
              "32608  movie right bad. love war movie normally come ...  negative       0"
            ]
          },
          "metadata": {},
          "execution_count": 36
        }
      ]
    },
    {
      "cell_type": "code",
      "metadata": {
        "id": "X8vPHNc8EJ2Y"
      },
      "source": [
        "df.to_csv('/content/drive/MyDrive/Soft Computing/Project/after_lemmatization.csv')"
      ],
      "execution_count": null,
      "outputs": []
    },
    {
      "cell_type": "markdown",
      "metadata": {
        "id": "Sv8G5BZsdElx"
      },
      "source": [
        "# Length Count"
      ]
    },
    {
      "cell_type": "code",
      "metadata": {
        "id": "UYaFtCrZu5zV",
        "colab": {
          "base_uri": "https://localhost:8080/",
          "height": 428
        },
        "outputId": "39a87f6f-6cd6-49c7-e474-0ba6ec8b6b8a"
      },
      "source": [
        "df['length'] = 0\n",
        "\n",
        "a = 0\n",
        "for i, row in df.iterrows():\n",
        "    l = len(row['review'])\n",
        "    df.at[i,'length'] = l\n",
        "\n",
        "length_array = df['length'].to_numpy()\n",
        "\n",
        "fig, ax = plt.subplots(figsize =(10, 7))\n",
        "ax.hist(length_array, bins=500)\n",
        " \n",
        "# Show plot\n",
        "plt.show()"
      ],
      "execution_count": null,
      "outputs": [
        {
          "output_type": "display_data",
          "data": {
            "image/png": "[encoded data removed]",
            "text/plain": [
              "<Figure size 720x504 with 1 Axes>"
            ]
          },
          "metadata": {
            "needs_background": "light"
          }
        }
      ]
    },
    {
      "cell_type": "code",
      "metadata": {
        "id": "GbMLoxkjv6__",
        "colab": {
          "base_uri": "https://localhost:8080/",
          "height": 206
        },
        "outputId": "fbd8aeb3-97bc-413f-8889-00d8d911a385"
      },
      "source": [
        "df.head()"
      ],
      "execution_count": null,
      "outputs": [
        {
          "output_type": "execute_result",
          "data": {
            "text/html": [
              "<div>\n",
              "<style scoped>\n",
              "    .dataframe tbody tr th:only-of-type {\n",
              "        vertical-align: middle;\n",
              "    }\n",
              "\n",
              "    .dataframe tbody tr th {\n",
              "        vertical-align: top;\n",
              "    }\n",
              "\n",
              "    .dataframe thead th {\n",
              "        text-align: right;\n",
              "    }\n",
              "</style>\n",
              "<table border=\"1\" class=\"dataframe\">\n",
              "  <thead>\n",
              "    <tr style=\"text-align: right;\">\n",
              "      <th></th>\n",
              "      <th>review</th>\n",
              "      <th>sentiment</th>\n",
              "      <th>target</th>\n",
              "      <th>length</th>\n",
              "    </tr>\n",
              "  </thead>\n",
              "  <tbody>\n",
              "    <tr>\n",
              "      <th>4320</th>\n",
              "      <td>film one boring film ever made. thing liked us...</td>\n",
              "      <td>negative</td>\n",
              "      <td>0</td>\n",
              "      <td>591</td>\n",
              "    </tr>\n",
              "    <tr>\n",
              "      <th>19407</th>\n",
              "      <td>got action fantasy mixed together want action ...</td>\n",
              "      <td>positive</td>\n",
              "      <td>1</td>\n",
              "      <td>189</td>\n",
              "    </tr>\n",
              "    <tr>\n",
              "      <th>14362</th>\n",
              "      <td>1955 heist film follows tony le stephanois, re...</td>\n",
              "      <td>positive</td>\n",
              "      <td>1</td>\n",
              "      <td>938</td>\n",
              "    </tr>\n",
              "    <tr>\n",
              "      <th>5596</th>\n",
              "      <td>one film couple hour sunday morning -- able th...</td>\n",
              "      <td>negative</td>\n",
              "      <td>0</td>\n",
              "      <td>1100</td>\n",
              "    </tr>\n",
              "    <tr>\n",
              "      <th>14179</th>\n",
              "      <td>im big tim matheson fan admit liked film.it da...</td>\n",
              "      <td>positive</td>\n",
              "      <td>1</td>\n",
              "      <td>565</td>\n",
              "    </tr>\n",
              "  </tbody>\n",
              "</table>\n",
              "</div>"
            ],
            "text/plain": [
              "                                                  review  ... length\n",
              "4320   film one boring film ever made. thing liked us...  ...    591\n",
              "19407  got action fantasy mixed together want action ...  ...    189\n",
              "14362  1955 heist film follows tony le stephanois, re...  ...    938\n",
              "5596   one film couple hour sunday morning -- able th...  ...   1100\n",
              "14179  im big tim matheson fan admit liked film.it da...  ...    565\n",
              "\n",
              "[5 rows x 4 columns]"
            ]
          },
          "metadata": {},
          "execution_count": 40
        }
      ]
    },
    {
      "cell_type": "code",
      "metadata": {
        "id": "cVRS8D7XdPUm"
      },
      "source": [
        "df.to_csv('/content/drive/MyDrive/Soft Computing/Project/updated_dataset.csv')"
      ],
      "execution_count": null,
      "outputs": []
    }
  ]
}