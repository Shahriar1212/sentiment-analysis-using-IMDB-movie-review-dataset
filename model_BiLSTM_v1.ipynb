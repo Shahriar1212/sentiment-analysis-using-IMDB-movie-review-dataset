{
  "nbformat": 4,
  "nbformat_minor": 0,
  "metadata": {
    "colab": {
      "name": "model_BiLSTM_v1.ipynb",
      "provenance": [],
      "collapsed_sections": []
    },
    "kernelspec": {
      "name": "python3",
      "display_name": "Python 3"
    },
    "language_info": {
      "name": "python"
    },
    "accelerator": "GPU"
  },
  "cells": [
    {
      "cell_type": "code",
      "metadata": {
        "colab": {
          "base_uri": "https://localhost:8080/"
        },
        "id": "7whXbW1iNF-3",
        "outputId": "329e2d87-4874-4849-e3e9-3f3fe8e65aa3"
      },
      "source": [
        "from google.colab import drive\n",
        "drive.mount('/content/drive/')"
      ],
      "execution_count": null,
      "outputs": [
        {
          "output_type": "stream",
          "name": "stdout",
          "text": [
            "Mounted at /content/drive/\n"
          ]
        }
      ]
    },
    {
      "cell_type": "code",
      "metadata": {
        "id": "Sl0A06wWP6WV"
      },
      "source": [
        "import pandas as pd\n",
        "import numpy as np\n",
        "import math\n",
        "import re\n",
        "import random\n",
        "import nltk\n",
        "from nltk.stem import WordNetLemmatizer\n",
        "from nltk.tokenize import WhitespaceTokenizer\n",
        "\n",
        "from keras.preprocessing.text import Tokenizer\n",
        "from keras.preprocessing.sequence import pad_sequences\n",
        "from keras.models import Sequential\n",
        "from keras.layers import Dense, Embedding, LSTM, SpatialDropout1D, SimpleRNN, Bidirectional\n",
        "from keras.layers import Dropout\n",
        "from keras.utils.np_utils import to_categorical\n",
        "from keras.utils.vis_utils import plot_model\n",
        "\n",
        "from sklearn.model_selection import train_test_split\n",
        "from sklearn.metrics import f1_score, precision_score, recall_score\n",
        "from sklearn.metrics import classification_report, confusion_matrix\n",
        "\n",
        "import matplotlib as mpl\n",
        "import matplotlib.pyplot as plt\n",
        "import seaborn as sb"
      ],
      "execution_count": null,
      "outputs": []
    },
    {
      "cell_type": "code",
      "metadata": {
        "id": "uNZ6UVBmQEiE"
      },
      "source": [
        "df = pd.read_csv('/content/drive/MyDrive/Colab Notebooks/updated_dataset.csv')"
      ],
      "execution_count": null,
      "outputs": []
    },
    {
      "cell_type": "markdown",
      "metadata": {
        "id": "NOpjPTjBRfMu"
      },
      "source": [
        "# Vectorization"
      ]
    },
    {
      "cell_type": "code",
      "metadata": {
        "colab": {
          "base_uri": "https://localhost:8080/"
        },
        "id": "iAUbdtTWRY49",
        "outputId": "61c05fe0-6e9f-42a6-9f19-65ff42524841"
      },
      "source": [
        "dataset = df\n",
        "unique_label = np.unique(df[\"target\"])\n",
        "num_classes = len(unique_label)\n",
        "\n",
        "from sklearn.model_selection import train_test_split\n",
        "X_train, X_test, y_train, y_test = train_test_split(dataset['review'].values, pd.get_dummies(dataset['target']).values, test_size=0.50)\n",
        "\n",
        "MAX_NB_WORDS = 120811\n",
        "MAX_SEQUENCE_LENGTH = 2000\n",
        "EMBEDDING_DIM = 250\n",
        "\n",
        "tokenizer = Tokenizer(num_words=MAX_NB_WORDS)\n",
        "tokenizer.fit_on_texts(X_train)\n",
        "tokenizer.fit_on_texts(X_test)\n",
        "word_index = tokenizer.word_index\n",
        "print(\"found \", len(word_index), \" unique tokens\")\n",
        "\n",
        "train_seq = tokenizer.texts_to_sequences(X_train)\n",
        "test_seq = tokenizer.texts_to_sequences(X_test)\n",
        "pad_train = pad_sequences(train_seq, maxlen=MAX_SEQUENCE_LENGTH)\n",
        "pad_test = pad_sequences(test_seq, maxlen=MAX_SEQUENCE_LENGTH)\n",
        "print('Shape of data tensor:', pad_train.shape)\n",
        "\n",
        "print(pad_train.shape,y_train.shape)\n",
        "print(pad_test.shape,y_test.shape)"
      ],
      "execution_count": null,
      "outputs": [
        {
          "output_type": "stream",
          "name": "stdout",
          "text": [
            "found  120811  unique tokens\n",
            "Shape of data tensor: (25000, 2000)\n",
            "(25000, 2000) (25000, 2)\n",
            "(25000, 2000) (25000, 2)\n"
          ]
        }
      ]
    },
    {
      "cell_type": "markdown",
      "metadata": {
        "id": "sOjQ29w2RirW"
      },
      "source": [
        "# Model_BI-LSTM"
      ]
    },
    {
      "cell_type": "code",
      "metadata": {
        "colab": {
          "base_uri": "https://localhost:8080/"
        },
        "id": "TRK5XVhzRg4L",
        "outputId": "0b2cf049-427b-43fa-b1a9-96dcecb0b2bb"
      },
      "source": [
        "from keras import layers\n",
        "model_1 = Sequential()\n",
        "model_1.add(Embedding(MAX_NB_WORDS, EMBEDDING_DIM, input_length=pad_train.shape[1]))\n",
        "model_1.add(layers.Bidirectional(layers.LSTM(250, activation= 'tanh', dropout = 0.5)))\n",
        "model_1.add(Dense(2, activation='sigmoid'))\n",
        "\n",
        "\n",
        "model_1.compile(loss='binary_crossentropy', optimizer='adam', metrics=['accuracy']) \n",
        "model_1.summary()\n",
        "\n",
        "epochs = 20\n",
        "batch_size = 128"
      ],
      "execution_count": null,
      "outputs": [
        {
          "output_type": "stream",
          "name": "stdout",
          "text": [
            "Model: \"sequential_3\"\n",
            "_________________________________________________________________\n",
            "Layer (type)                 Output Shape              Param #   \n",
            "=================================================================\n",
            "embedding_3 (Embedding)      (None, 2000, 250)         30202750  \n",
            "_________________________________________________________________\n",
            "bidirectional_2 (Bidirection (None, 500)               1002000   \n",
            "_________________________________________________________________\n",
            "dense_2 (Dense)              (None, 2)                 1002      \n",
            "=================================================================\n",
            "Total params: 31,205,752\n",
            "Trainable params: 31,205,752\n",
            "Non-trainable params: 0\n",
            "_________________________________________________________________\n"
          ]
        }
      ]
    },
    {
      "cell_type": "code",
      "metadata": {
        "colab": {
          "base_uri": "https://localhost:8080/"
        },
        "id": "eavNSxtzRuCs",
        "outputId": "bcbf2a2f-e9ae-40ae-d922-d93dd5ab50d7"
      },
      "source": [
        "history = model_1.fit(pad_train, y_train, epochs=epochs, batch_size=batch_size,validation_data=(pad_test, y_test))"
      ],
      "execution_count": null,
      "outputs": [
        {
          "output_type": "stream",
          "name": "stdout",
          "text": [
            "Epoch 1/20\n",
            "196/196 [==============================] - 426s 2s/step - loss: 0.4438 - accuracy: 0.7904 - val_loss: 0.3065 - val_accuracy: 0.8756\n",
            "Epoch 2/20\n",
            "196/196 [==============================] - 419s 2s/step - loss: 0.2125 - accuracy: 0.9221 - val_loss: 0.3231 - val_accuracy: 0.8700\n",
            "Epoch 3/20\n",
            "196/196 [==============================] - 418s 2s/step - loss: 0.1127 - accuracy: 0.9616 - val_loss: 0.3251 - val_accuracy: 0.8816\n",
            "Epoch 4/20\n",
            "196/196 [==============================] - 419s 2s/step - loss: 0.0650 - accuracy: 0.9788 - val_loss: 0.4340 - val_accuracy: 0.8700\n",
            "Epoch 5/20\n",
            "196/196 [==============================] - 419s 2s/step - loss: 0.0447 - accuracy: 0.9861 - val_loss: 0.4451 - val_accuracy: 0.8682\n",
            "Epoch 6/20\n",
            "196/196 [==============================] - 422s 2s/step - loss: 0.0276 - accuracy: 0.9919 - val_loss: 0.4714 - val_accuracy: 0.8696\n",
            "Epoch 7/20\n",
            "196/196 [==============================] - 422s 2s/step - loss: 0.0186 - accuracy: 0.9953 - val_loss: 0.5897 - val_accuracy: 0.8685\n",
            "Epoch 8/20\n",
            "196/196 [==============================] - 422s 2s/step - loss: 0.0255 - accuracy: 0.9915 - val_loss: 0.5130 - val_accuracy: 0.8404\n",
            "Epoch 9/20\n",
            "196/196 [==============================] - 422s 2s/step - loss: 0.0300 - accuracy: 0.9906 - val_loss: 0.5791 - val_accuracy: 0.8699\n",
            "Epoch 10/20\n",
            "196/196 [==============================] - 423s 2s/step - loss: 0.0122 - accuracy: 0.9964 - val_loss: 0.5856 - val_accuracy: 0.8696\n",
            "Epoch 11/20\n",
            "196/196 [==============================] - 423s 2s/step - loss: 0.0083 - accuracy: 0.9975 - val_loss: 0.6983 - val_accuracy: 0.8702\n",
            "Epoch 12/20\n",
            "196/196 [==============================] - 423s 2s/step - loss: 0.0078 - accuracy: 0.9979 - val_loss: 0.6859 - val_accuracy: 0.8672\n",
            "Epoch 13/20\n",
            "196/196 [==============================] - 422s 2s/step - loss: 0.0125 - accuracy: 0.9961 - val_loss: 0.6039 - val_accuracy: 0.8657\n",
            "Epoch 14/20\n",
            "196/196 [==============================] - 422s 2s/step - loss: 0.0098 - accuracy: 0.9970 - val_loss: 0.6791 - val_accuracy: 0.8508\n",
            "Epoch 15/20\n",
            "196/196 [==============================] - 423s 2s/step - loss: 0.0126 - accuracy: 0.9962 - val_loss: 0.7250 - val_accuracy: 0.8705\n",
            "Epoch 16/20\n",
            "196/196 [==============================] - 422s 2s/step - loss: 0.0072 - accuracy: 0.9979 - val_loss: 0.7403 - val_accuracy: 0.8699\n",
            "Epoch 17/20\n",
            "196/196 [==============================] - 422s 2s/step - loss: 0.0048 - accuracy: 0.9984 - val_loss: 0.7665 - val_accuracy: 0.8656\n",
            "Epoch 18/20\n",
            "196/196 [==============================] - 422s 2s/step - loss: 0.0063 - accuracy: 0.9982 - val_loss: 0.7169 - val_accuracy: 0.8648\n",
            "Epoch 19/20\n",
            "196/196 [==============================] - 422s 2s/step - loss: 0.0050 - accuracy: 0.9986 - val_loss: 0.7150 - val_accuracy: 0.8597\n",
            "Epoch 20/20\n",
            "196/196 [==============================] - 422s 2s/step - loss: 0.0016 - accuracy: 0.9997 - val_loss: 0.9284 - val_accuracy: 0.8659\n"
          ]
        }
      ]
    },
    {
      "cell_type": "code",
      "metadata": {
        "colab": {
          "base_uri": "https://localhost:8080/"
        },
        "id": "occIUPILKaap",
        "outputId": "b307d5de-8f20-4b68-8301-f78f7d370200"
      },
      "source": [
        "evaluation = model_1.evaluate(pad_test,y_test)\n",
        "accuracy = evaluation[1] * 100\n",
        "print(\"Accuracy is : \", accuracy)"
      ],
      "execution_count": null,
      "outputs": [
        {
          "output_type": "stream",
          "name": "stdout",
          "text": [
            "782/782 [==============================] - 239s 305ms/step - loss: 0.9284 - accuracy: 0.8659\n",
            "Accuracy is :  86.59200072288513\n"
          ]
        }
      ]
    },
    {
      "cell_type": "code",
      "metadata": {
        "colab": {
          "base_uri": "https://localhost:8080/",
          "height": 295
        },
        "id": "KFoZDsOkKpvX",
        "outputId": "d0557d96-2bd2-48a6-9139-5383486ab32e"
      },
      "source": [
        "from matplotlib import pyplot\n",
        "\n",
        "pyplot.plot(history.history['loss'], color='r')\n",
        "# pyplot.plot(history.history['val_loss'], color='b')\n",
        "pyplot.title('loss curve')\n",
        "pyplot.ylabel('loss')\n",
        "pyplot.xlabel('epoch')\n",
        "pyplot.legend(['loss', 'val_loss'], loc='upper right')\n",
        "pyplot.show()"
      ],
      "execution_count": null,
      "outputs": [
        {
          "output_type": "display_data",
          "data": {
            "image/png": "[encoded data removed]",
            "text/plain": [
              "<Figure size 432x288 with 1 Axes>"
            ]
          },
          "metadata": {
            "needs_background": "light"
          }
        }
      ]
    },
    {
      "cell_type": "code",
      "metadata": {
        "colab": {
          "base_uri": "https://localhost:8080/",
          "height": 295
        },
        "id": "cyigfJUmLsL7",
        "outputId": "c6cfd519-0938-4ca3-9acf-0f736fa45405"
      },
      "source": [
        "from matplotlib import pyplot\n",
        "\n",
        "pyplot.plot(history.history['accuracy'], color='b')\n",
        "# pyplot.plot(history.history['val_accuracy'], color='b')\n",
        "pyplot.title('accuracy curve')\n",
        "pyplot.ylabel('accuracy')\n",
        "pyplot.xlabel('epoch')\n",
        "pyplot.legend(['accuracy', 'val_accuracy'], loc='upper right')\n",
        "pyplot.show()"
      ],
      "execution_count": null,
      "outputs": [
        {
          "output_type": "display_data",
          "data": {
            "image/png": "[encoded data removed]",
            "text/plain": [
              "<Figure size 432x288 with 1 Axes>"
            ]
          },
          "metadata": {
            "needs_background": "light"
          }
        }
      ]
    },
    {
      "cell_type": "code",
      "metadata": {
        "colab": {
          "base_uri": "https://localhost:8080/",
          "height": 295
        },
        "id": "UqAhmmduLve1",
        "outputId": "7e58590b-8f0e-4369-cf51-a642ad17c5e2"
      },
      "source": [
        "y_pred = model_1.predict(pad_test)\n",
        "\n",
        "new_y_pred = np.argmax(y_pred, axis=1)\n",
        "new_y_test = np.argmax(y_test, axis=1)\n",
        "\n",
        "conf_arr = np.zeros((num_classes, num_classes))\n",
        "\n",
        "for i in range(len(new_y_pred)):\n",
        "        conf_arr[new_y_pred[i]][new_y_test[i]] += 1\n",
        "\n",
        "df_cm = pd.DataFrame(conf_arr, index = unique_label, columns = unique_label)\n",
        "\n",
        "\n",
        "fig = plt.figure()\n",
        "plt.clf()\n",
        "\n",
        "ax = fig.add_subplot()\n",
        "ax.set_aspect(1)\n",
        "\n",
        "cmap = sb.cubehelix_palette(light=1, as_cmap=True)\n",
        "res = sb.heatmap(df_cm, annot=True, vmin=0.0, vmax=np.max(conf_arr), fmt='.2f', cmap=cmap)\n",
        "\n",
        "plt.title('Confusion Matrix')\n",
        "plt.ylabel('Predicted')\n",
        "plt.xlabel('True')\n",
        "plt.show()"
      ],
      "execution_count": null,
      "outputs": [
        {
          "output_type": "display_data",
          "data": {
            "image/png": "[encoded data removed]",
            "text/plain": [
              "<Figure size 432x288 with 2 Axes>"
            ]
          },
          "metadata": {
            "needs_background": "light"
          }
        }
      ]
    },
    {
      "cell_type": "code",
      "metadata": {
        "colab": {
          "base_uri": "https://localhost:8080/"
        },
        "id": "6DwHqulPL3FT",
        "outputId": "c8f53786-1ee3-4258-fea0-5497052fcb72"
      },
      "source": [
        "precision =   precision_score(new_y_test, new_y_pred) * 100\n",
        "recall =  recall_score(new_y_test, new_y_pred) * 100\n",
        "f1_score =  f1_score(new_y_test, new_y_pred) * 100\n",
        "print(\"Precision is : \",precision)\n",
        "print(\"Recall is : \",recall)\n",
        "print(\"F1-score is : \",f1_score)\n"
      ],
      "execution_count": null,
      "outputs": [
        {
          "output_type": "stream",
          "name": "stdout",
          "text": [
            "Precision is :  83.91896869244935\n",
            "Recall is :  90.69341612928908\n",
            "F1-score is :  87.17477808386901\n"
          ]
        }
      ]
    },
    {
      "cell_type": "code",
      "metadata": {
        "colab": {
          "base_uri": "https://localhost:8080/"
        },
        "id": "QmAo0uSQM4LJ",
        "outputId": "473ded27-2eed-4a42-cf4d-324f6e085a19"
      },
      "source": [
        "print(classification_report(new_y_test, new_y_pred))"
      ],
      "execution_count": null,
      "outputs": [
        {
          "output_type": "stream",
          "name": "stdout",
          "text": [
            "              precision    recall  f1-score   support\n",
            "\n",
            "           0       0.90      0.82      0.86     12439\n",
            "           1       0.84      0.91      0.87     12561\n",
            "\n",
            "    accuracy                           0.87     25000\n",
            "   macro avg       0.87      0.87      0.87     25000\n",
            "weighted avg       0.87      0.87      0.87     25000\n",
            "\n"
          ]
        }
      ]
    },
    {
      "cell_type": "code",
      "metadata": {
        "colab": {
          "base_uri": "https://localhost:8080/"
        },
        "id": "Tjw1vZ5jNbJo",
        "outputId": "4ae78e6e-d1cb-4c78-8f3b-ce95b116d2c9"
      },
      "source": [
        "from sklearn.metrics import f1_score, precision_score, recall_score\n",
        "\n",
        "precision =   precision_score(new_y_test, new_y_pred) * 100\n",
        "recall =  recall_score(new_y_test, new_y_pred) * 100\n",
        "f1_score =  f1_score(new_y_test, new_y_pred) * 100\n",
        "print('Pricision = ',precision)\n",
        "print('F1_score = ',f1_score)\n",
        "print('Recall = ',recall)"
      ],
      "execution_count": null,
      "outputs": [
        {
          "output_type": "stream",
          "name": "stdout",
          "text": [
            "Pricision =  83.91896869244935\n",
            "F1_score =  87.17477808386901\n",
            "Recall =  90.69341612928908\n"
          ]
        }
      ]
    },
    {
      "cell_type": "code",
      "metadata": {
        "colab": {
          "base_uri": "https://localhost:8080/"
        },
        "id": "UcE0mcQzNhvP",
        "outputId": "493504dd-bf34-4fa0-f9e3-da829b7f58a1"
      },
      "source": [
        "model_1.save('/content/drive/MyDrive/Colab Notebooks/SoftComputingProject/saved_info/BiLSTM/v1')"
      ],
      "execution_count": null,
      "outputs": [
        {
          "output_type": "stream",
          "name": "stderr",
          "text": [
            "WARNING:absl:Found untraced functions such as lstm_cell_7_layer_call_fn, lstm_cell_7_layer_call_and_return_conditional_losses, lstm_cell_8_layer_call_fn, lstm_cell_8_layer_call_and_return_conditional_losses, lstm_cell_7_layer_call_fn while saving (showing 5 of 10). These functions will not be directly callable after loading.\n"
          ]
        },
        {
          "output_type": "stream",
          "name": "stdout",
          "text": [
            "INFO:tensorflow:Assets written to: /content/drive/MyDrive/Colab Notebooks/SoftComputingProject/saved_info/BiLSTM/v1/assets\n"
          ]
        },
        {
          "output_type": "stream",
          "name": "stderr",
          "text": [
            "INFO:tensorflow:Assets written to: /content/drive/MyDrive/Colab Notebooks/SoftComputingProject/saved_info/BiLSTM/v1/assets\n"
          ]
        }
      ]
    },
    {
      "cell_type": "code",
      "metadata": {
        "id": "df2RBj3dOMuw"
      },
      "source": [
        "import keras\n",
        "loaded_model = keras.models.load_model('/content/drive/MyDrive/Colab Notebooks/SoftComputingProject/saved_info/BiLSTM/v1')"
      ],
      "execution_count": null,
      "outputs": []
    },
    {
      "cell_type": "code",
      "metadata": {
        "colab": {
          "base_uri": "https://localhost:8080/"
        },
        "id": "Eihvy3nDOgai",
        "outputId": "0a1e0e03-22bf-405e-8772-75ec1d53c86b"
      },
      "source": [
        "evaluation = loaded_model.evaluate(pad_test,y_test)\n",
        "accuracy = evaluation[1] * 100\n",
        "print(\"Accuracy is : \", accuracy)"
      ],
      "execution_count": null,
      "outputs": [
        {
          "output_type": "stream",
          "name": "stdout",
          "text": [
            "782/782 [==============================] - 240s 306ms/step - loss: 0.9284 - accuracy: 0.8659\n",
            "Accuracy is :  86.59200072288513\n"
          ]
        }
      ]
    },
    {
      "cell_type": "code",
      "metadata": {
        "id": "q0FKri22OlaT"
      },
      "source": [
        "np.save('/content/drive/MyDrive/Colab Notebooks/SoftComputingProject/saved_info/BiLSTM/v1/history.npy',history.history)"
      ],
      "execution_count": null,
      "outputs": []
    },
    {
      "cell_type": "code",
      "metadata": {
        "id": "6_lJCewUO1oc"
      },
      "source": [
        "h=np.load('/content/drive/MyDrive/Colab Notebooks/SoftComputingProject/saved_info/BiLSTM/v1/history.npy',allow_pickle='TRUE').item()"
      ],
      "execution_count": null,
      "outputs": []
    },
    {
      "cell_type": "code",
      "metadata": {
        "colab": {
          "base_uri": "https://localhost:8080/",
          "height": 295
        },
        "id": "CsFfOwCxO9KV",
        "outputId": "8e772bef-cec6-49f6-abb3-08d87e9d35e9"
      },
      "source": [
        "from matplotlib import pyplot\n",
        "\n",
        "pyplot.plot(h['accuracy'], color='b')\n",
        "# pyplot.plot(history.history['val_accuracy'], color='b')\n",
        "pyplot.title('accuracy curve')\n",
        "pyplot.ylabel('accuracy')\n",
        "pyplot.xlabel('epoch')\n",
        "pyplot.legend(['accuracy', 'val_accuracy'], loc='upper right')\n",
        "pyplot.show()"
      ],
      "execution_count": null,
      "outputs": [
        {
          "output_type": "display_data",
          "data": {
            "image/png": "[encoded data removed]",
            "text/plain": [
              "<Figure size 432x288 with 1 Axes>"
            ]
          },
          "metadata": {
            "needs_background": "light"
          }
        }
      ]
    },
    {
      "cell_type": "code",
      "metadata": {
        "id": "-NINGal3P0mh"
      },
      "source": [
        ""
      ],
      "execution_count": null,
      "outputs": []
    }
  ]
}